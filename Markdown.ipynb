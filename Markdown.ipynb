{
 "cells": [
  {
   "cell_type": "markdown",
   "id": "4c9e60e7-3a56-4d78-8c42-a5d5fcc59b33",
   "metadata": {},
   "source": [
    "# Markdown "
   ]
  },
  {
   "cell_type": "code",
   "execution_count": null,
   "id": "be0390b0-e666-43b5-a6c9-56b79cb0893c",
   "metadata": {},
   "outputs": [],
   "source": []
  },
  {
   "cell_type": "code",
   "execution_count": null,
   "id": "ff3ce434-b1c9-4281-beb2-3ccee3f36e8d",
   "metadata": {},
   "outputs": [],
   "source": []
  },
  {
   "cell_type": "code",
   "execution_count": null,
   "id": "dafbd50a-b6b2-4104-b23d-9782ed2b4539",
   "metadata": {},
   "outputs": [],
   "source": []
  },
  {
   "cell_type": "code",
   "execution_count": null,
   "id": "15575629-2459-4e41-8691-55adaacd5234",
   "metadata": {},
   "outputs": [],
   "source": []
  }
 ],
 "metadata": {
  "kernelspec": {
   "display_name": "Python 3 (ipykernel)",
   "language": "python",
   "name": "python3"
  },
  "language_info": {
   "codemirror_mode": {
    "name": "ipython",
    "version": 3
   },
   "file_extension": ".py",
   "mimetype": "text/x-python",
   "name": "python",
   "nbconvert_exporter": "python",
   "pygments_lexer": "ipython3",
   "version": "3.10.9"
  }
 },
 "nbformat": 4,
 "nbformat_minor": 5
}
